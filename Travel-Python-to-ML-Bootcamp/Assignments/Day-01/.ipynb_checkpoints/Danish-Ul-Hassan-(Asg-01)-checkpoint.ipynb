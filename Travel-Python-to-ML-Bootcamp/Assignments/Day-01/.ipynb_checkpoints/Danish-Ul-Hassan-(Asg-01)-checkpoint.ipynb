{
 "cells": [
  {
   "cell_type": "markdown",
   "metadata": {},
   "source": [
    "# Assignment # 01\n",
    "\n",
    "## Q # 01\n",
    "\n",
    "## Underscore in Python"
   ]
  },
  {
   "cell_type": "code",
   "execution_count": 2,
   "metadata": {},
   "outputs": [
    {
     "name": "stdout",
     "output_type": "stream",
     "text": [
      "10\n",
      "20\n"
     ]
    }
   ],
   "source": [
    "# We use underscore to ingnore the values when we are decalaring variables.\n",
    "# we can give the values to the \"_\" varaible.\n",
    "# underscore is useful when we want to ignore some of the values\n",
    "\n",
    "### Danish Ul Hassan\n",
    "## Example of Underscore\n",
    "\n",
    "num1, _, num2 = 10, 20, 20;\n",
    "print(num1)\n",
    "print(num2)"
   ]
  },
  {
   "cell_type": "markdown",
   "metadata": {},
   "source": [
    "## Q # 02"
   ]
  },
  {
   "cell_type": "code",
   "execution_count": 8,
   "metadata": {},
   "outputs": [
    {
     "name": "stdout",
     "output_type": "stream",
     "text": [
      "2.5\n",
      "<class 'float'>\n",
      "2\n",
      "<class 'int'>\n",
      "1.9666666666666668\n",
      "<class 'float'>\n",
      "1\n",
      "<class 'int'>\n"
     ]
    }
   ],
   "source": [
    "## Example # 01\n",
    "value_1 = 2+(5-2)/6\n",
    "print(value_1)\n",
    "print(type(value_1))\n",
    "#Danish Ul Hassan\n",
    "#Converting the value into int\n",
    "value_1 = int(value_1)\n",
    "print(value_1)\n",
    "print(type(value_1))\n",
    "\n",
    "## Example # 02\n",
    "value_2 = 4/5 + ( 10-3 ) /6\n",
    "print(value_2)\n",
    "print(type(value_2))\n",
    "#Danish Ul Hassan\n",
    "#Converting the value into int\n",
    "value_2 = int(value_2)\n",
    "print(value_2)\n",
    "print(type(value_2))\n"
   ]
  },
  {
   "cell_type": "markdown",
   "metadata": {},
   "source": [
    "## Q # 03"
   ]
  },
  {
   "cell_type": "code",
   "execution_count": 29,
   "metadata": {},
   "outputs": [
    {
     "name": "stdout",
     "output_type": "stream",
     "text": [
      "For Loop:\n",
      "0 2 4 6 8 10 12 14 16 18 20 22 24 26 28 30 32 34 36 38 40 42 44 46 48 50 \n",
      " While Loop:\n",
      "2 4 6 8 10 12 14 16 18 20 22 24 26 28 30 32 34 36 38 40 42 44 46 48 50 "
     ]
    }
   ],
   "source": [
    "# Even Numbers from 0-50 using for Loop\n",
    "  \n",
    "initial, final = 0, 51\n",
    "print(\"For Loop:\")\n",
    "for value in range(initial, final + 1): \n",
    "      \n",
    "    # checking condition \n",
    "    if value % 2 == 0: \n",
    "        print(value, end = \" \") \n",
    "        \n",
    "#using while loop\n",
    "i = 0 \n",
    "print(\"\\n While Loop:\")\n",
    "while i <= 48: \n",
    "   i += 2 \n",
    "   print(i, end=\" \") "
   ]
  },
  {
   "cell_type": "markdown",
   "metadata": {},
   "source": [
    "## Q # 04 "
   ]
  },
  {
   "cell_type": "code",
   "execution_count": 16,
   "metadata": {},
   "outputs": [
    {
     "name": "stdout",
     "output_type": "stream",
     "text": [
      "Prime numbers: \n",
      "2 3 5 7 11 13 17 19 23 29 31 37 41 43 47 53 59 61 67 71 73 79 83 89 97 "
     ]
    }
   ],
   "source": [
    "first = 0\n",
    "last = 100\n",
    "print(\"Prime numbers: \")\n",
    "for value in range(first, last + 1):\n",
    "   if value > 1:\n",
    "       for i in range(2, value):\n",
    "           if (value % i) == 0:\n",
    "               break\n",
    "       else:\n",
    "           print(value, end=\" \")"
   ]
  },
  {
   "cell_type": "markdown",
   "metadata": {},
   "source": [
    "## Q # 05"
   ]
  },
  {
   "cell_type": "code",
   "execution_count": 22,
   "metadata": {},
   "outputs": [
    {
     "name": "stdout",
     "output_type": "stream",
     "text": [
      "# \r\n",
      "# # \r\n",
      "# # # \r\n",
      "# # # # \r\n",
      "# # # # # \r\n",
      "# # # # # # \r\n",
      "# # # # # # # \r\n"
     ]
    }
   ],
   "source": [
    "#dansih Ul Hassan\n",
    "def hashing(n):\n",
    "    for i in range(0, value):\n",
    "        for j in range(0, i+1):\n",
    "            print(\"# \",end=\"\")\n",
    "        print(\"\\r\")\n",
    "\n",
    "value = 7\n",
    "hashing(value)\n"
   ]
  },
  {
   "cell_type": "markdown",
   "metadata": {},
   "source": [
    "## Q # 06"
   ]
  },
  {
   "cell_type": "code",
   "execution_count": null,
   "metadata": {},
   "outputs": [],
   "source": []
  },
  {
   "cell_type": "markdown",
   "metadata": {},
   "source": [
    "# Q # 07"
   ]
  },
  {
   "cell_type": "code",
   "execution_count": null,
   "metadata": {},
   "outputs": [],
   "source": []
  },
  {
   "cell_type": "markdown",
   "metadata": {},
   "source": [
    "## Q # 08 "
   ]
  },
  {
   "cell_type": "code",
   "execution_count": null,
   "metadata": {},
   "outputs": [],
   "source": []
  },
  {
   "cell_type": "markdown",
   "metadata": {},
   "source": [
    "## Q # 09 "
   ]
  },
  {
   "cell_type": "code",
   "execution_count": null,
   "metadata": {},
   "outputs": [],
   "source": []
  },
  {
   "cell_type": "markdown",
   "metadata": {},
   "source": [
    "## Q # 10"
   ]
  },
  {
   "cell_type": "code",
   "execution_count": 31,
   "metadata": {},
   "outputs": [
    {
     "name": "stdout",
     "output_type": "stream",
     "text": [
      "\n",
      "* \n",
      "* * \n",
      "* * * \n",
      "* * * * \n",
      "* * * * * \n",
      "* * * * \n",
      "* * * \n",
      "* * \n",
      "* \n"
     ]
    }
   ],
   "source": [
    "n=5;\n",
    "for a in range(n):\n",
    "    for b in range(a):\n",
    "        print ('* ', end=\"\")\n",
    "    print('')\n",
    "\n",
    "for a in range(n,0,-1):\n",
    "    for b in range(a):\n",
    "        print('* ', end=\"\")\n",
    "    print('')\n"
   ]
  },
  {
   "cell_type": "markdown",
   "metadata": {},
   "source": [
    "## Q # 11"
   ]
  },
  {
   "cell_type": "code",
   "execution_count": 33,
   "metadata": {},
   "outputs": [
    {
     "name": "stdout",
     "output_type": "stream",
     "text": [
      "Fibonacci Series: \n",
      "1 1 2 3 5 8 13 21 34 55 89 "
     ]
    }
   ],
   "source": [
    "x,y=0,1\n",
    "print(\"Fibonacci Series: \")\n",
    "while y<100:\n",
    "    print(y, end= \" \")\n",
    "    x,y = y,x+y\n"
   ]
  },
  {
   "cell_type": "markdown",
   "metadata": {},
   "source": [
    "# ALL Done"
   ]
  },
  {
   "cell_type": "code",
   "execution_count": null,
   "metadata": {},
   "outputs": [],
   "source": []
  }
 ],
 "metadata": {
  "kernelspec": {
   "display_name": "Python 3",
   "language": "python",
   "name": "python3"
  },
  "language_info": {
   "codemirror_mode": {
    "name": "ipython",
    "version": 3
   },
   "file_extension": ".py",
   "mimetype": "text/x-python",
   "name": "python",
   "nbconvert_exporter": "python",
   "pygments_lexer": "ipython3",
   "version": "3.9.1"
  }
 },
 "nbformat": 4,
 "nbformat_minor": 4
}
