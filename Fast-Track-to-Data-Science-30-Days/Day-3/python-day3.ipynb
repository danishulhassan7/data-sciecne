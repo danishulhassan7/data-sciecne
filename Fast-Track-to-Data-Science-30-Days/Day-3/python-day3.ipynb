{
 "cells": [
  {
   "cell_type": "markdown",
   "metadata": {},
   "source": [
    "# using basic functions "
   ]
  },
  {
   "cell_type": "code",
   "execution_count": null,
   "metadata": {},
   "outputs": [],
   "source": [
    "my_list = [4,6,7,8,9]\n",
    "condition = True\n",
    "\n",
    "#Print the type of my_list variable\n",
    "print(type(my_list))\n",
    "\n",
    "#Print the length of my_list variable\n",
    "print(len(my_list))\n",
    "\n",
    "\n",
    "#Changing the type of condtion variable\n",
    "\n",
    "condition = int(con)\n",
    "\n"
   ]
  }
 ],
 "metadata": {
  "kernelspec": {
   "display_name": "Python 3",
   "language": "python",
   "name": "python3"
  },
  "language_info": {
   "codemirror_mode": {
    "name": "ipython",
    "version": 3
   },
   "file_extension": ".py",
   "mimetype": "text/x-python",
   "name": "python",
   "nbconvert_exporter": "python",
   "pygments_lexer": "ipython3",
   "version": "3.9.1"
  }
 },
 "nbformat": 4,
 "nbformat_minor": 4
}
