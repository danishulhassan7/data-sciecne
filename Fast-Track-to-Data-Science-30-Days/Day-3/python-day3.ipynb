{
 "cells": [
  {
   "cell_type": "markdown",
   "metadata": {},
   "source": [
    "# using basic functions "
   ]
  },
  {
   "cell_type": "code",
   "execution_count": 2,
   "metadata": {},
   "outputs": [
    {
     "name": "stdout",
     "output_type": "stream",
     "text": [
      "<class 'list'>\n",
      "5\n",
      "0\n"
     ]
    }
   ],
   "source": [
    "my_list = [4,6,7,8,9]\n",
    "condition = False\n",
    "\n",
    "#Print the type of my_list variable\n",
    "print(type(my_list))\n",
    "\n",
    "#Print the length of my_list variable\n",
    "print(len(my_list))\n",
    "\n",
    "\n",
    "#Changing the type of condtion variable\n",
    "\n",
    "condition = int(condition)\n",
    "print(condition)\n"
   ]
  },
  {
   "cell_type": "code",
   "execution_count": 4,
   "metadata": {},
   "outputs": [
    {
     "name": "stdout",
     "output_type": "stream",
     "text": [
      "[10, 40, 7, 58, 98]\n",
      "[2, 56, 77, 56, 78]\n",
      "[10, 40, 7, 58, 98, 2, 56, 77, 56, 78]\n",
      "Ascending:  [2, 7, 10, 40, 56, 56, 58, 77, 78, 98]\n",
      "Descending:  [98, 78, 77, 58, 56, 56, 40, 10, 7, 2]\n"
     ]
    }
   ],
   "source": [
    "list1 = [10,40,7,58,98]\n",
    "list2 = [2,56,77,56,78]\n",
    "\n",
    "print(list1)\n",
    "print(list2)\n",
    "\n",
    "append_list = list1 + list2\n",
    "print(append_list)\n",
    "\n",
    "#Sorting the lists\n",
    "\n",
    "ascending = sorted(append_list)\n",
    "print(\"Ascending: \", ascending)\n",
    "\n",
    "descending = sorted(append_list, reverse = True) \n",
    "print(\"Descending: \",descending)"
   ]
  },
  {
   "cell_type": "code",
   "execution_count": 6,
   "metadata": {},
   "outputs": [
    {
     "name": "stdout",
     "output_type": "stream",
     "text": [
      "Educational\n",
      "EDUCATIONAL\n",
      "educational\n",
      "11\n",
      "2\n"
     ]
    }
   ],
   "source": [
    "#Methods\n",
    "\n",
    "string = \"Educational\"\n",
    "\n",
    "print(string)\n",
    "\n",
    "\n",
    "string1 = string.upper()\n",
    "print(string1)\n",
    "\n",
    "string2 = string.lower()\n",
    "print(string2)\n",
    "\n",
    "print(len(string))\n",
    "\n",
    "length_string = string.count(\"a\")\n",
    "print(length_string)"
   ]
  },
  {
   "cell_type": "code",
   "execution_count": null,
   "metadata": {},
   "outputs": [],
   "source": [
    "heights = [2,5,6.7,7.4,4.3]\n",
    "\n",
    "print(height.index)"
   ]
  }
 ],
 "metadata": {
  "kernelspec": {
   "display_name": "Python 3",
   "language": "python",
   "name": "python3"
  },
  "language_info": {
   "codemirror_mode": {
    "name": "ipython",
    "version": 3
   },
   "file_extension": ".py",
   "mimetype": "text/x-python",
   "name": "python",
   "nbconvert_exporter": "python",
   "pygments_lexer": "ipython3",
   "version": "3.9.1"
  }
 },
 "nbformat": 4,
 "nbformat_minor": 4
}
