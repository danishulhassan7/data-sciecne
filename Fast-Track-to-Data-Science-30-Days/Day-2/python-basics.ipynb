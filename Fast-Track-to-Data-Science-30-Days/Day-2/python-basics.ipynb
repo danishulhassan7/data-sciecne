{
 "cells": [
  {
   "cell_type": "markdown",
   "metadata": {},
   "source": [
    "# Basics of Lists"
   ]
  },
  {
   "cell_type": "code",
   "execution_count": 1,
   "metadata": {},
   "outputs": [
    {
     "name": "stdout",
     "output_type": "stream",
     "text": [
      "['a', 'e', 'i', 'o', 'u']\n"
     ]
    }
   ],
   "source": [
    "#starting with Lists\n",
    "\n",
    "vowels = [ 'a', 'e', 'i', 'o' , 'u']\n",
    "print(vowels)"
   ]
  },
  {
   "cell_type": "code",
   "execution_count": 2,
   "metadata": {},
   "outputs": [
    {
     "name": "stdout",
     "output_type": "stream",
     "text": [
      "['cherry', 'guava', 'strawberry', 'water-melon', 'apple', 'banana']\n"
     ]
    }
   ],
   "source": [
    "fruit_1 = 'apple'\n",
    "fruit_2 = 'banana'\n",
    "\n",
    "fruits = ['cherry', 'guava', 'strawberry', 'water-melon', fruit_1, fruit_2]\n",
    "print(fruits)"
   ]
  },
  {
   "cell_type": "code",
   "execution_count": 5,
   "metadata": {},
   "outputs": [
    {
     "name": "stdout",
     "output_type": "stream",
     "text": [
      "['Smith', 15, 'Saraah', 'helloWorld', 2.5678, True]\n"
     ]
    }
   ],
   "source": [
    "data = ['Smith', 15, 'Saraah', 'helloWorld', 2.5678, True] #lists are heterogeneous\n",
    "print(data)"
   ]
  },
  {
   "cell_type": "code",
   "execution_count": null,
   "metadata": {},
   "outputs": [],
   "source": [
    "#Lists within Lists\n",
    "\n",
    "child_1 = 7\n",
    "child_2 = 9\n",
    "child_3 = 13\n",
    "father = 36\n",
    "mother = 31\n",
    "\n",
    "family = [ ['Rohman', child_1], ['Sarah', child_2], ['Joe', child_3], ['Samy', father], ['Rosey'] ]"
   ]
  }
 ],
 "metadata": {
  "kernelspec": {
   "display_name": "Python 3",
   "language": "python",
   "name": "python3"
  },
  "language_info": {
   "codemirror_mode": {
    "name": "ipython",
    "version": 3
   },
   "file_extension": ".py",
   "mimetype": "text/x-python",
   "name": "python",
   "nbconvert_exporter": "python",
   "pygments_lexer": "ipython3",
   "version": "3.9.1"
  }
 },
 "nbformat": 4,
 "nbformat_minor": 4
}
