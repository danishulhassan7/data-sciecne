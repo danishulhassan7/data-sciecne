{
 "cells": [
  {
   "cell_type": "markdown",
   "metadata": {},
   "source": [
    "# Assignment # 01"
   ]
  },
  {
   "cell_type": "markdown",
   "metadata": {},
   "source": [
    "## Question-1 (EVEN / ODD)"
   ]
  },
  {
   "cell_type": "code",
   "execution_count": null,
   "metadata": {},
   "outputs": [],
   "source": [
    "# Taking input from user and then finding out the Even Odd number\n",
    "\n",
    "inp = int(input(\"Enter a number to check whether the number is Even or Odd: \"))\n",
    "if (inp % 2) == 0:\n",
    "   print(\"{0} is Even\".format(inp))\n",
    "else:\n",
    "   print(\"{0} is Odd\".format(inp))"
   ]
  },
  {
   "cell_type": "markdown",
   "metadata": {},
   "source": [
    "## Question-2 (Upper / Lower)"
   ]
  },
  {
   "cell_type": "code",
   "execution_count": null,
   "metadata": {},
   "outputs": [],
   "source": [
    "data= \"Hi my name is Zain and I am currently doing my bachelor from IBA Karachi.\"\n",
    "upper_data = data.upper()\n",
    "print(upper_data)\n",
    "lower_data = data.lower()\n",
    "print(lower_data)"
   ]
  },
  {
   "cell_type": "code",
   "execution_count": null,
   "metadata": {},
   "outputs": [],
   "source": []
  }
 ],
 "metadata": {
  "kernelspec": {
   "display_name": "Python 3",
   "language": "python",
   "name": "python3"
  },
  "language_info": {
   "codemirror_mode": {
    "name": "ipython",
    "version": 3
   },
   "file_extension": ".py",
   "mimetype": "text/x-python",
   "name": "python",
   "nbconvert_exporter": "python",
   "pygments_lexer": "ipython3",
   "version": "3.9.1"
  }
 },
 "nbformat": 4,
 "nbformat_minor": 4
}
