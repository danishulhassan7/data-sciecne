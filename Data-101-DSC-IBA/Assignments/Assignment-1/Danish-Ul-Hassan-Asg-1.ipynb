{
 "cells": [
  {
   "cell_type": "markdown",
   "metadata": {},
   "source": [
    "# Assignment # 01"
   ]
  },
  {
   "cell_type": "markdown",
   "metadata": {},
   "source": [
    "## Question-1 (EVEN / ODD)"
   ]
  },
  {
   "cell_type": "code",
   "execution_count": 4,
   "metadata": {},
   "outputs": [
    {
     "name": "stdout",
     "output_type": "stream",
     "text": [
      "Enter a number to check whether the number is Even or Odd: 10\n",
      "The given number 10 is Even No.\n"
     ]
    }
   ],
   "source": [
    "# Taking input from user and then finding out the Even Odd number\n",
    "\n",
    "inp = int(input(\"Enter a number to check whether the number is Even or Odd: \"))\n",
    "if (inp % 2) == 0:\n",
    "   print(\"The given number {0} is Even No.\".format(inp))\n",
    "else:\n",
    "   print(\"The given number {0} is Odd No\".format(inp))"
   ]
  },
  {
   "cell_type": "markdown",
   "metadata": {},
   "source": [
    "## Question-2 (Upper / Lower)"
   ]
  },
  {
   "cell_type": "code",
   "execution_count": 2,
   "metadata": {},
   "outputs": [
    {
     "name": "stdout",
     "output_type": "stream",
     "text": [
      "HI MY NAME IS DANISH UL HASSAN AND I AM CURRENTLY DOING MY BACHELOR'S FROM SMIU KARACHI.\n",
      "hi my name is danish ul hassan and i am currently doing my bachelor's from smiu karachi.\n"
     ]
    }
   ],
   "source": [
    "data= \"Hi my name is Danish Ul Hassan and I am currently doing my Bachelor's from SMIU Karachi.\"\n",
    "upper_data = data.upper()\n",
    "print(upper_data)\n",
    "lower_data = data.lower()\n",
    "print(lower_data)"
   ]
  },
  {
   "cell_type": "code",
   "execution_count": null,
   "metadata": {},
   "outputs": [],
   "source": []
  }
 ],
 "metadata": {
  "kernelspec": {
   "display_name": "Python 3",
   "language": "python",
   "name": "python3"
  },
  "language_info": {
   "codemirror_mode": {
    "name": "ipython",
    "version": 3
   },
   "file_extension": ".py",
   "mimetype": "text/x-python",
   "name": "python",
   "nbconvert_exporter": "python",
   "pygments_lexer": "ipython3",
   "version": "3.9.1"
  }
 },
 "nbformat": 4,
 "nbformat_minor": 4
}
